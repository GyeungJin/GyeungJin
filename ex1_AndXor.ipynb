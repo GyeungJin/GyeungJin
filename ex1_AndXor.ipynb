{
 "cells": [
  {
   "cell_type": "markdown",
   "id": "8a51557b",
   "metadata": {},
   "source": [
    "### 목표\n",
    "- 데이터를 학습시켜 모델에게 and, xor 연산 패턴을 찾는다\n",
    "- 기본적인 머선러닝 과정을 이해한다\n"
   ]
  },
  {
   "cell_type": "code",
   "execution_count": 1,
   "id": "d86869eb",
   "metadata": {
    "ExecuteTime": {
     "end_time": "2023-01-25T01:50:07.517911Z",
     "start_time": "2023-01-25T01:50:06.907811Z"
    }
   },
   "outputs": [],
   "source": [
    "import pandas as pd"
   ]
  },
  {
   "cell_type": "code",
   "execution_count": 5,
   "id": "e7d26934",
   "metadata": {
    "ExecuteTime": {
     "end_time": "2023-01-25T01:52:21.434890Z",
     "start_time": "2023-01-25T01:52:21.403972Z"
    }
   },
   "outputs": [
    {
     "data": {
      "text/html": [
       "<div>\n",
       "<style scoped>\n",
       "    .dataframe tbody tr th:only-of-type {\n",
       "        vertical-align: middle;\n",
       "    }\n",
       "\n",
       "    .dataframe tbody tr th {\n",
       "        vertical-align: top;\n",
       "    }\n",
       "\n",
       "    .dataframe thead th {\n",
       "        text-align: right;\n",
       "    }\n",
       "</style>\n",
       "<table border=\"1\" class=\"dataframe\">\n",
       "  <thead>\n",
       "    <tr style=\"text-align: right;\">\n",
       "      <th></th>\n",
       "      <th>A</th>\n",
       "      <th>B</th>\n",
       "      <th>AandB</th>\n",
       "    </tr>\n",
       "  </thead>\n",
       "  <tbody>\n",
       "    <tr>\n",
       "      <th>0</th>\n",
       "      <td>0</td>\n",
       "      <td>0</td>\n",
       "      <td>0</td>\n",
       "    </tr>\n",
       "    <tr>\n",
       "      <th>1</th>\n",
       "      <td>0</td>\n",
       "      <td>1</td>\n",
       "      <td>0</td>\n",
       "    </tr>\n",
       "    <tr>\n",
       "      <th>2</th>\n",
       "      <td>1</td>\n",
       "      <td>0</td>\n",
       "      <td>0</td>\n",
       "    </tr>\n",
       "    <tr>\n",
       "      <th>3</th>\n",
       "      <td>1</td>\n",
       "      <td>1</td>\n",
       "      <td>1</td>\n",
       "    </tr>\n",
       "  </tbody>\n",
       "</table>\n",
       "</div>"
      ],
      "text/plain": [
       "   A  B  AandB\n",
       "0  0  0      0\n",
       "1  0  1      0\n",
       "2  1  0      0\n",
       "3  1  1      1"
      ]
     },
     "execution_count": 5,
     "metadata": {},
     "output_type": "execute_result"
    }
   ],
   "source": [
    "data ={'A':[0,0,1,1],\n",
    "      'B':[0,1,0,1],\n",
    "      'AandB':[0,0,0,1]}\n",
    "df = pd.DataFrame(data)\n",
    "df"
   ]
  },
  {
   "cell_type": "markdown",
   "id": "34f8dfb6",
   "metadata": {},
   "source": [
    "#### 문제와 답으로 분리\n",
    "- X: 문제 = 속성 = 특성 = 특징 = 피쳐(feature) - 2차원이라 대문자 X\n",
    "- y: 답 = 레이블(label) = 타겟(target) - 1차원이라 소문자 y"
   ]
  },
  {
   "cell_type": "code",
   "execution_count": 6,
   "id": "1f8a7458",
   "metadata": {
    "ExecuteTime": {
     "end_time": "2023-01-25T02:16:04.685528Z",
     "start_time": "2023-01-25T02:16:04.662558Z"
    }
   },
   "outputs": [],
   "source": [
    "X = df[['A','B']]\n",
    "X = df.loc[:,['A','B']]\n",
    "X = df.loc[:,'A':'B']\n",
    "X = df.iloc[:,[0,1]]\n",
    "# 훈련데이터의 경우 train으로 구분\n",
    "X_train = df.iloc[:,:2]\n",
    "\n",
    "y_train = df['AandB']"
   ]
  },
  {
   "cell_type": "code",
   "execution_count": 8,
   "id": "e5350fcf",
   "metadata": {
    "ExecuteTime": {
     "end_time": "2023-01-25T02:17:55.003982Z",
     "start_time": "2023-01-25T02:17:54.996004Z"
    }
   },
   "outputs": [
    {
     "name": "stdout",
     "output_type": "stream",
     "text": [
      "(4, 2)\n",
      "(4,)\n"
     ]
    }
   ],
   "source": [
    "# 크기확인 (문제와 정답에 개수가 맞아야함)\n",
    "print(X_train.shape)\n",
    "print(y_train.shape)"
   ]
  },
  {
   "cell_type": "markdown",
   "id": "86b9af90",
   "metadata": {},
   "source": [
    "#### ML 모델 학습"
   ]
  },
  {
   "cell_type": "code",
   "execution_count": 10,
   "id": "c8460c99",
   "metadata": {
    "ExecuteTime": {
     "end_time": "2023-01-25T02:22:25.461057Z",
     "start_time": "2023-01-25T02:22:25.454076Z"
    }
   },
   "outputs": [],
   "source": [
    "# scikit - learn 머신러닝용 패키지 라이브\n",
    "from sklearn.neighbors import KNeighborsClassifier # 분류모델"
   ]
  },
  {
   "cell_type": "code",
   "execution_count": 11,
   "id": "cde0c9b6",
   "metadata": {
    "ExecuteTime": {
     "end_time": "2023-01-25T02:26:13.224913Z",
     "start_time": "2023-01-25T02:26:13.208685Z"
    }
   },
   "outputs": [],
   "source": [
    "# 모델 객체 생성 (학습할 학생 생성) + Hyper Parameter 설정\n",
    "knn_model = KNeighborsClassifier(n_neighbors=1)\n",
    "\n",
    "# KNN 최근접 이웃 알고리즘\n",
    "# 문제 데이터와 가장 가까운 이웃 데이터와\n",
    "# 실제 답을 확인하여 결과를 예측하는 모델"
   ]
  },
  {
   "cell_type": "code",
   "execution_count": 12,
   "id": "548e82fe",
   "metadata": {
    "ExecuteTime": {
     "end_time": "2023-01-25T02:28:43.518225Z",
     "start_time": "2023-01-25T02:28:43.491142Z"
    }
   },
   "outputs": [
    {
     "data": {
      "text/plain": [
       "KNeighborsClassifier(n_neighbors=1)"
      ]
     },
     "execution_count": 12,
     "metadata": {},
     "output_type": "execute_result"
    }
   ],
   "source": [
    "# 모델 학습\n",
    "# fit(학습용 문제, 학습용 답) : 데이터에 맞춰서 모델이 학습한다.\n",
    "knn_model.fit(X_train,y_train)"
   ]
  },
  {
   "cell_type": "code",
   "execution_count": 13,
   "id": "8cd2c4ab",
   "metadata": {
    "ExecuteTime": {
     "end_time": "2023-01-25T02:32:39.000106Z",
     "start_time": "2023-01-25T02:32:38.975192Z"
    }
   },
   "outputs": [
    {
     "name": "stderr",
     "output_type": "stream",
     "text": [
      "C:\\Users\\SMHRD\\anaconda3\\lib\\site-packages\\sklearn\\base.py:450: UserWarning: X does not have valid feature names, but KNeighborsClassifier was fitted with feature names\n",
      "  warnings.warn(\n",
      "C:\\Users\\SMHRD\\anaconda3\\lib\\site-packages\\sklearn\\neighbors\\_classification.py:228: FutureWarning: Unlike other reduction functions (e.g. `skew`, `kurtosis`), the default behavior of `mode` typically preserves the axis it acts along. In SciPy 1.11.0, this behavior will change: the default value of `keepdims` will become False, the `axis` over which the statistic is taken will be eliminated, and the value None will no longer be accepted. Set `keepdims` to True or False to avoid this warning.\n",
      "  mode, _ = stats.mode(_y[neigh_ind, k], axis=1)\n"
     ]
    },
    {
     "data": {
      "text/plain": [
       "array([0, 1], dtype=int64)"
      ]
     },
     "execution_count": 13,
     "metadata": {},
     "output_type": "execute_result"
    }
   ],
   "source": [
    "# 예측\n",
    "# predict(X_test) 테스트용 문제\n",
    "# 임의의 데이터 [[0,1],[1,1]]\n",
    "# 실제 답 [0,1]\n",
    "pre = knn_model.predict([[0,1],[1,1]])\n",
    "pre"
   ]
  },
  {
   "cell_type": "code",
   "execution_count": 15,
   "id": "6e9d091f",
   "metadata": {
    "ExecuteTime": {
     "end_time": "2023-01-25T02:36:17.343222Z",
     "start_time": "2023-01-25T02:36:17.335245Z"
    }
   },
   "outputs": [
    {
     "data": {
      "text/plain": [
       "100.0"
      ]
     },
     "execution_count": 15,
     "metadata": {},
     "output_type": "execute_result"
    }
   ],
   "source": [
    "# 평가\n",
    "from sklearn.metrics import accuracy_score\n",
    "accuracy_score(pre,[0,1]) * 100"
   ]
  },
  {
   "cell_type": "code",
   "execution_count": 1,
   "id": "fd5b6df6",
   "metadata": {
    "ExecuteTime": {
     "end_time": "2023-02-15T08:53:39.407037Z",
     "start_time": "2023-02-15T08:53:39.395276Z"
    }
   },
   "outputs": [],
   "source": [
    "fruits = ['apple','banana']"
   ]
  },
  {
   "cell_type": "code",
   "execution_count": 3,
   "id": "478a1eb7",
   "metadata": {
    "ExecuteTime": {
     "end_time": "2023-02-15T08:54:29.692721Z",
     "start_time": "2023-02-15T08:54:29.683135Z"
    }
   },
   "outputs": [],
   "source": [
    "fruits.remove('apple')"
   ]
  },
  {
   "cell_type": "code",
   "execution_count": 8,
   "id": "bd495555",
   "metadata": {
    "ExecuteTime": {
     "end_time": "2023-02-15T08:57:19.137803Z",
     "start_time": "2023-02-15T08:57:19.130820Z"
    }
   },
   "outputs": [
    {
     "ename": "NameError",
     "evalue": "name 'fruitslist' is not defined",
     "output_type": "error",
     "traceback": [
      "\u001b[1;31m---------------------------------------------------------------------------\u001b[0m",
      "\u001b[1;31mNameError\u001b[0m                                 Traceback (most recent call last)",
      "\u001b[1;32m~\\AppData\\Local\\Temp\\ipykernel_101668\\2607917756.py\u001b[0m in \u001b[0;36m<module>\u001b[1;34m\u001b[0m\n\u001b[1;32m----> 1\u001b[1;33m \u001b[0mfruitslist\u001b[0m\u001b[1;33m(\u001b[0m\u001b[1;34m'apple'\u001b[0m \u001b[1;33m==\u001b[0m \u001b[1;32mFalse\u001b[0m\u001b[1;33m)\u001b[0m\u001b[1;33m\u001b[0m\u001b[1;33m\u001b[0m\u001b[0m\n\u001b[0m",
      "\u001b[1;31mNameError\u001b[0m: name 'fruitslist' is not defined"
     ]
    }
   ],
   "source": [
    "fruits."
   ]
  },
  {
   "cell_type": "code",
   "execution_count": 1,
   "id": "17b42711",
   "metadata": {
    "ExecuteTime": {
     "end_time": "2023-02-17T06:45:07.547836Z",
     "start_time": "2023-02-17T06:45:07.394170Z"
    }
   },
   "outputs": [],
   "source": [
    "from sklearn.datasets import load_iris\n",
    "from sklearn.model_selection import train_test_split\n",
    "from sklearn.neighbors import KNeighborsClassifier\n",
    "from sklearn.model_selection import cross_val_score\n"
   ]
  },
  {
   "cell_type": "code",
   "execution_count": 2,
   "id": "f3e3a3fe",
   "metadata": {
    "ExecuteTime": {
     "end_time": "2023-02-17T06:45:13.762419Z",
     "start_time": "2023-02-17T06:45:13.746416Z"
    }
   },
   "outputs": [],
   "source": [
    "iris = load_iris()"
   ]
  },
  {
   "cell_type": "code",
   "execution_count": 4,
   "id": "eaa27fbd",
   "metadata": {
    "ExecuteTime": {
     "end_time": "2023-02-17T06:45:58.164375Z",
     "start_time": "2023-02-17T06:45:58.153480Z"
    }
   },
   "outputs": [],
   "source": [
    "X = iris.data\n",
    "y = iris.target"
   ]
  },
  {
   "cell_type": "code",
   "execution_count": 5,
   "id": "73e420f5",
   "metadata": {
    "ExecuteTime": {
     "end_time": "2023-02-17T06:46:28.581462Z",
     "start_time": "2023-02-17T06:46:28.570490Z"
    }
   },
   "outputs": [],
   "source": [
    "X_train, X_test, y_train, y_test = train_test_split(X, y, test_size=0.3, random_state=42)\n"
   ]
  },
  {
   "cell_type": "code",
   "execution_count": 6,
   "id": "fde1d530",
   "metadata": {
    "ExecuteTime": {
     "end_time": "2023-02-17T06:46:35.406113Z",
     "start_time": "2023-02-17T06:46:35.402124Z"
    }
   },
   "outputs": [],
   "source": [
    "knn = KNeighborsClassifier(n_neighbors=3)"
   ]
  },
  {
   "cell_type": "code",
   "execution_count": 7,
   "id": "ec9f5d76",
   "metadata": {
    "ExecuteTime": {
     "end_time": "2023-02-17T06:46:42.841316Z",
     "start_time": "2023-02-17T06:46:42.809968Z"
    }
   },
   "outputs": [
    {
     "name": "stderr",
     "output_type": "stream",
     "text": [
      "C:\\Users\\SMHRD\\anaconda3\\lib\\site-packages\\sklearn\\neighbors\\_classification.py:228: FutureWarning: Unlike other reduction functions (e.g. `skew`, `kurtosis`), the default behavior of `mode` typically preserves the axis it acts along. In SciPy 1.11.0, this behavior will change: the default value of `keepdims` will become False, the `axis` over which the statistic is taken will be eliminated, and the value None will no longer be accepted. Set `keepdims` to True or False to avoid this warning.\n",
      "  mode, _ = stats.mode(_y[neigh_ind, k], axis=1)\n",
      "C:\\Users\\SMHRD\\anaconda3\\lib\\site-packages\\sklearn\\neighbors\\_classification.py:228: FutureWarning: Unlike other reduction functions (e.g. `skew`, `kurtosis`), the default behavior of `mode` typically preserves the axis it acts along. In SciPy 1.11.0, this behavior will change: the default value of `keepdims` will become False, the `axis` over which the statistic is taken will be eliminated, and the value None will no longer be accepted. Set `keepdims` to True or False to avoid this warning.\n",
      "  mode, _ = stats.mode(_y[neigh_ind, k], axis=1)\n",
      "C:\\Users\\SMHRD\\anaconda3\\lib\\site-packages\\sklearn\\neighbors\\_classification.py:228: FutureWarning: Unlike other reduction functions (e.g. `skew`, `kurtosis`), the default behavior of `mode` typically preserves the axis it acts along. In SciPy 1.11.0, this behavior will change: the default value of `keepdims` will become False, the `axis` over which the statistic is taken will be eliminated, and the value None will no longer be accepted. Set `keepdims` to True or False to avoid this warning.\n",
      "  mode, _ = stats.mode(_y[neigh_ind, k], axis=1)\n",
      "C:\\Users\\SMHRD\\anaconda3\\lib\\site-packages\\sklearn\\neighbors\\_classification.py:228: FutureWarning: Unlike other reduction functions (e.g. `skew`, `kurtosis`), the default behavior of `mode` typically preserves the axis it acts along. In SciPy 1.11.0, this behavior will change: the default value of `keepdims` will become False, the `axis` over which the statistic is taken will be eliminated, and the value None will no longer be accepted. Set `keepdims` to True or False to avoid this warning.\n",
      "  mode, _ = stats.mode(_y[neigh_ind, k], axis=1)\n",
      "C:\\Users\\SMHRD\\anaconda3\\lib\\site-packages\\sklearn\\neighbors\\_classification.py:228: FutureWarning: Unlike other reduction functions (e.g. `skew`, `kurtosis`), the default behavior of `mode` typically preserves the axis it acts along. In SciPy 1.11.0, this behavior will change: the default value of `keepdims` will become False, the `axis` over which the statistic is taken will be eliminated, and the value None will no longer be accepted. Set `keepdims` to True or False to avoid this warning.\n",
      "  mode, _ = stats.mode(_y[neigh_ind, k], axis=1)\n"
     ]
    }
   ],
   "source": [
    "scores = cross_val_score(knn, X_train, y_train, cv=5)"
   ]
  },
  {
   "cell_type": "code",
   "execution_count": 8,
   "id": "f842b054",
   "metadata": {
    "ExecuteTime": {
     "end_time": "2023-02-17T06:46:50.565542Z",
     "start_time": "2023-02-17T06:46:50.546474Z"
    }
   },
   "outputs": [
    {
     "name": "stdout",
     "output_type": "stream",
     "text": [
      "Cross-validation scores: [0.9047619  0.9047619  0.9047619  1.         0.95238095]\n",
      "Average score: 0.93\n"
     ]
    }
   ],
   "source": [
    "print(\"Cross-validation scores: {}\".format(scores))\n",
    "print(\"Average score: {:.2f}\".format(scores.mean()))"
   ]
  },
  {
   "cell_type": "code",
   "execution_count": null,
   "id": "8dc89ad1",
   "metadata": {},
   "outputs": [],
   "source": []
  },
  {
   "cell_type": "code",
   "execution_count": null,
   "id": "d739d11e",
   "metadata": {},
   "outputs": [],
   "source": []
  },
  {
   "cell_type": "code",
   "execution_count": null,
   "id": "64ef26be",
   "metadata": {},
   "outputs": [],
   "source": []
  },
  {
   "cell_type": "code",
   "execution_count": null,
   "id": "ebac3c89",
   "metadata": {},
   "outputs": [],
   "source": []
  },
  {
   "cell_type": "code",
   "execution_count": null,
   "id": "84344157",
   "metadata": {},
   "outputs": [],
   "source": []
  },
  {
   "cell_type": "code",
   "execution_count": null,
   "id": "bc17a3ea",
   "metadata": {},
   "outputs": [],
   "source": []
  },
  {
   "cell_type": "code",
   "execution_count": null,
   "id": "cd00e54c",
   "metadata": {},
   "outputs": [],
   "source": []
  },
  {
   "cell_type": "code",
   "execution_count": null,
   "id": "d7f8b7dc",
   "metadata": {},
   "outputs": [],
   "source": []
  },
  {
   "cell_type": "code",
   "execution_count": null,
   "id": "648eafb5",
   "metadata": {},
   "outputs": [],
   "source": []
  },
  {
   "cell_type": "code",
   "execution_count": null,
   "id": "f53216e5",
   "metadata": {},
   "outputs": [],
   "source": []
  },
  {
   "cell_type": "code",
   "execution_count": null,
   "id": "6a76208f",
   "metadata": {},
   "outputs": [],
   "source": []
  },
  {
   "cell_type": "code",
   "execution_count": null,
   "id": "5fae4cbd",
   "metadata": {},
   "outputs": [],
   "source": []
  },
  {
   "cell_type": "code",
   "execution_count": null,
   "id": "1c4e9d23",
   "metadata": {},
   "outputs": [],
   "source": []
  },
  {
   "cell_type": "code",
   "execution_count": null,
   "id": "56eaedcc",
   "metadata": {},
   "outputs": [],
   "source": []
  },
  {
   "cell_type": "code",
   "execution_count": null,
   "id": "a0aca922",
   "metadata": {},
   "outputs": [],
   "source": []
  },
  {
   "cell_type": "code",
   "execution_count": null,
   "id": "ec7122ea",
   "metadata": {},
   "outputs": [],
   "source": []
  },
  {
   "cell_type": "code",
   "execution_count": null,
   "id": "7cadf2e5",
   "metadata": {},
   "outputs": [],
   "source": []
  },
  {
   "cell_type": "code",
   "execution_count": null,
   "id": "07a9892c",
   "metadata": {},
   "outputs": [],
   "source": []
  },
  {
   "cell_type": "code",
   "execution_count": null,
   "id": "5828572f",
   "metadata": {},
   "outputs": [],
   "source": []
  },
  {
   "cell_type": "code",
   "execution_count": null,
   "id": "f99bc4c0",
   "metadata": {},
   "outputs": [],
   "source": []
  },
  {
   "cell_type": "code",
   "execution_count": null,
   "id": "a0a7264a",
   "metadata": {},
   "outputs": [],
   "source": []
  },
  {
   "cell_type": "code",
   "execution_count": null,
   "id": "c91f7914",
   "metadata": {},
   "outputs": [],
   "source": []
  },
  {
   "cell_type": "code",
   "execution_count": null,
   "id": "cf692e82",
   "metadata": {},
   "outputs": [],
   "source": []
  },
  {
   "cell_type": "code",
   "execution_count": null,
   "id": "d26eca2f",
   "metadata": {},
   "outputs": [],
   "source": []
  },
  {
   "cell_type": "code",
   "execution_count": null,
   "id": "6e040c4c",
   "metadata": {},
   "outputs": [],
   "source": []
  },
  {
   "cell_type": "code",
   "execution_count": null,
   "id": "51fc67d5",
   "metadata": {},
   "outputs": [],
   "source": []
  },
  {
   "cell_type": "code",
   "execution_count": null,
   "id": "9542401c",
   "metadata": {},
   "outputs": [],
   "source": []
  },
  {
   "cell_type": "code",
   "execution_count": null,
   "id": "3fd25de0",
   "metadata": {},
   "outputs": [],
   "source": []
  },
  {
   "cell_type": "code",
   "execution_count": null,
   "id": "84fbc383",
   "metadata": {},
   "outputs": [],
   "source": []
  }
 ],
 "metadata": {
  "kernelspec": {
   "display_name": "Python 3 (ipykernel)",
   "language": "python",
   "name": "python3"
  },
  "language_info": {
   "codemirror_mode": {
    "name": "ipython",
    "version": 3
   },
   "file_extension": ".py",
   "mimetype": "text/x-python",
   "name": "python",
   "nbconvert_exporter": "python",
   "pygments_lexer": "ipython3",
   "version": "3.9.13"
  },
  "toc": {
   "base_numbering": 1,
   "nav_menu": {},
   "number_sections": true,
   "sideBar": true,
   "skip_h1_title": false,
   "title_cell": "Table of Contents",
   "title_sidebar": "Contents",
   "toc_cell": false,
   "toc_position": {},
   "toc_section_display": true,
   "toc_window_display": false
  }
 },
 "nbformat": 4,
 "nbformat_minor": 5
}
